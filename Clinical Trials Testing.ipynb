{
 "cells": [
  {
   "cell_type": "markdown",
   "metadata": {},
   "source": [
    "# Clinical Trials From Python\n",
    "clinicaltrials.gov is the site we're working with.\n",
    "\n",
    "https://pypi.python.org/pypi/clinical_trials/1.1\n",
    "\n",
    "In each search of trials, there are the following data elements:\n",
    "1. url - a url to the clinical trial study\n",
    "2. title - the title of the clinical study\n",
    "3. status - either open, or not { 'open': (N,Y), 'status': (Active, not recruiting, Recruiting, Completed) }\n",
    "4. score -\n",
    "5. order -\n",
    "6. last_changed - the date that the trial was last changed\n",
    "\n",
    "Each query has keys:\n",
    "- count\n",
    "- query is the query being used in the search algorithm\n",
    "- clinical_study is the information about the actual clinical study\n",
    "- search_results"
   ]
  },
  {
   "cell_type": "code",
   "execution_count": 1,
   "metadata": {
    "collapsed": false
   },
   "outputs": [],
   "source": [
    "from clinical_trials import Trials\n",
    "\n",
    "import json"
   ]
  },
  {
   "cell_type": "code",
   "execution_count": 2,
   "metadata": {
    "collapsed": false
   },
   "outputs": [],
   "source": [
    "# list of states abbreviations and corresponding states\n",
    "states_abbrev = ['AL','AK','AZ','AR','CA','CO','CT','DE','FL','GA','HI','ID','IL','IN','IA',\n",
    "    'KS', 'KY', 'LA', 'ME', 'MD', 'MA', 'MI', 'MN', 'MS', 'MO',\n",
    "    'MT', 'NE', 'NV', 'NH', 'NJ', 'NM', 'NY', 'NC', 'ND', 'OH',\n",
    "    'OK', 'OR', 'PA', 'RI', 'SC', 'SD', 'TN', 'TX', 'UT', 'VT',\n",
    "    'VA', 'WA', 'WV', 'WI', 'WY']\n",
    "states = ['Alabama', 'Alaska', 'Arizona', 'Arkansas', 'California', 'Colorado', 'Connecticut',\n",
    "         'Delaware', 'Florida', 'Georgia', 'Hawaii', 'Idaho', 'Illinois', 'Indiana', 'Iowa',\n",
    "         'Kansas', 'Kentucky', 'Louisiana', 'Maine', 'Maryland', 'Massachusetts', 'Michigan',\n",
    "         'Minnesota', 'Mississippi', 'Missouri', 'Montana', 'Nebraska', 'Nevada', 'New Hampshire',\n",
    "         'New Jersey', 'New Mexico', 'New York', 'North Carolina', 'North Dakota', 'Ohio', 'Oklahoma',\n",
    "         'Oregon', 'Pennsylvania', 'Rhode Island', 'South Carolina', 'South Dakota', 'Tennessee', 'Texas',\n",
    "         'Utah', 'Vermont', 'Virginia', 'Washington', 'West Virginia', 'Wisconsin', 'Wyoming']\n",
    "\n",
    "# create a clinical trials object for searching\n",
    "t = Trials()\n",
    "# t.search(\"alzheimer's disease\")['search_results']"
   ]
  },
  {
   "cell_type": "code",
   "execution_count": 3,
   "metadata": {
    "collapsed": false
   },
   "outputs": [
    {
     "name": "stdout",
     "output_type": "stream",
     "text": [
      "5000\n",
      "5000\n",
      "3837\n"
     ]
    }
   ],
   "source": [
    "non_recruiting_trials = t.search(recruiting='closed', count='5000')['search_results']['clinical_study']\n",
    "recruiting_trials = t.search(recruiting='open', count='5000')['search_results']['clinical_study']\n",
    "num_trials = len(non_recruiting_trials)\n",
    "\n",
    "test = t.search(recruiting='open', state='TX', count='5010')['search_results']['clinical_study']\n",
    "\n",
    "print len(non_recruiting_trials)\n",
    "print len(recruiting_trials)\n",
    "print len(test)\n",
    "# print json.dumps(non_recruiting_trials, indent=4, separators=(',',':'))\n",
    "# print non_recruiting_trials\n",
    "# print json.dumps(non_recruiting_trials, 'indent=4', 'separators=(',',':')')"
   ]
  },
  {
   "cell_type": "code",
   "execution_count": 4,
   "metadata": {
    "collapsed": false
   },
   "outputs": [],
   "source": [
    "jsonList = {}\n",
    "COUNT = 100 \n",
    "totalcount = 0\n",
    "for index in range(0, len(states_abbrev)):\n",
    "    trials = t.search(recruiting='open', count=COUNT, state=states_abbrev[index])['search_results']['clinical_study']\n",
    "\n",
    "    state = states_abbrev[index] # the state abbreviation\n",
    "    numTrials = len(trials)\n",
    "    # Create the json object\n",
    "    jsonList[state] = {\"numTrials\": numTrials}\n",
    "\n",
    "    totalcount += numTrials\n"
   ]
  },
  {
   "cell_type": "code",
   "execution_count": 5,
   "metadata": {
    "collapsed": false
   },
   "outputs": [
    {
     "name": "stdout",
     "output_type": "stream",
     "text": [
      "4957\n"
     ]
    }
   ],
   "source": [
    "print totalcount\n",
    "# print json.dumps(jsonList, sort_keys=True, indent=4)"
   ]
  },
  {
   "cell_type": "code",
   "execution_count": 8,
   "metadata": {
    "collapsed": false
   },
   "outputs": [
    {
     "name": "stdout",
     "output_type": "stream",
     "text": [
      "{'search_results': {'count': '2', 'query': 'SEARCH[STUDY] ( AAI Clinic [STUDY:SPONSOR-COLLABORATORS] )', 'clinical_study': [{'status': {'status': 'Completed', 'open': 'N'}, 'title': 'Bioavailability Study of Tramadol/APAP Tablets Under Fasting Conditions', 'url': 'https://ClinicalTrials.gov/show/NCT00653315', 'last_changed': 'April 9, 2008', 'score': '0.53091', 'condition_summary': 'To Determine Bioequivalence Under Fasting Conditions', 'order': '1', 'intervention_summary': u'Drug:\\xa0Tramadol APAP; Drug:\\xa0Ultracet', 'nct_id': 'NCT00653315'}, {'status': {'status': 'Completed', 'open': 'N'}, 'title': 'Bioavailability Study of Tramadol/APAP Tablets Under Fed Conditions', 'url': 'https://ClinicalTrials.gov/show/NCT00652821', 'last_changed': 'April 9, 2008', 'score': '0.53091', 'condition_summary': 'To Determine Bioequivalence Under Fed Conditions.', 'order': '2', 'intervention_summary': u'Drug:\\xa0Tramadol/ APAP; Drug:\\xa0Ultracet', 'nct_id': 'NCT00652821'}], 'search_results': '\\n  '}}\n"
     ]
    }
   ],
   "source": [
    "import datetime\n",
    "yesterday = datetime.date.today() - datetime.timedelta(1)\n",
    "unix_time= yesterday.strftime(\"%s\")\n",
    "trials = t.search(sponsor='AAI Clinic')\n",
    "print trials\n",
    "# trials = t.search(last_changed=unix_time)\n",
    "# print trials"
   ]
  },
  {
   "cell_type": "code",
   "execution_count": null,
   "metadata": {
    "collapsed": true
   },
   "outputs": [],
   "source": []
  }
 ],
 "metadata": {
  "kernelspec": {
   "display_name": "Python 2",
   "language": "python",
   "name": "python2"
  },
  "language_info": {
   "codemirror_mode": {
    "name": "ipython",
    "version": 2
   },
   "file_extension": ".py",
   "mimetype": "text/x-python",
   "name": "python",
   "nbconvert_exporter": "python",
   "pygments_lexer": "ipython2",
   "version": "2.7.11"
  }
 },
 "nbformat": 4,
 "nbformat_minor": 0
}
